{
  "nbformat": 4,
  "nbformat_minor": 0,
  "metadata": {
    "colab": {
      "name": "Lab2_v0.ipynb",
      "provenance": [],
      "collapsed_sections": [],
      "mount_file_id": "1OE1HGXSqsAuXgfTnxcgDn7Z979uwfNu_",
      "authorship_tag": "ABX9TyPCGcyQUPRpIxgXf2VGZoVc",
      "include_colab_link": true
    },
    "kernelspec": {
      "name": "python3",
      "display_name": "Python 3"
    }
  },
  "cells": [
    {
      "cell_type": "markdown",
      "metadata": {
        "id": "view-in-github",
        "colab_type": "text"
      },
      "source": [
        "<a href=\"https://colab.research.google.com/github/lalazarescou/ML1_Lab2/blob/master/Lab2_v0.ipynb\" target=\"_parent\"><img src=\"https://colab.research.google.com/assets/colab-badge.svg\" alt=\"Open In Colab\"/></a>"
      ]
    },
    {
      "cell_type": "markdown",
      "metadata": {
        "id": "wXf-JG04n2RM",
        "colab_type": "text"
      },
      "source": [
        "# 7331 Machine Learning 1\n",
        "# Lab 2:  Classification\n",
        "---\n",
        "\n",
        "### Team 2:\n",
        "*   Laura Lazarescou\n",
        "*   Gabriel Gonzales\n",
        "*   David Julovich\n",
        "*   Branum Stephan\n",
        "\n"
      ]
    },
    {
      "cell_type": "markdown",
      "metadata": {
        "id": "cY5urzQQpISD",
        "colab_type": "text"
      },
      "source": [
        "## Overview\n",
        "This lab extends our use of the  CRISP-DM framework by leveraging the work we did in Lab 1 (EDA) and the mini-lab (first example of classification).  In addition to developing a second model, we will dive deeper into the topics of cross-validation, variable selection, variable importance and hyperparameter tuning.\n",
        "Our original dataset is Yelp data from Kaggle:  https://www.kaggle.com/yelp-dataset/yelp-dataset \n",
        "\n",
        "We have refined the classification model we developed in the mini_lab which classifies a restaurant based on the engineered variable:  good_score.  \n",
        "*   When stars are greater than or equal to 4, good_score is TRUE.\n",
        "*   When stars are less than 4, good_score is FALSE.\n",
        "\n",
        "Our second analysis is focused on the continuous variable: review_count.\n",
        "\n",
        "This second model esimates and predicts the average number of reviews for a restaurant in Las Vegas, NV, given the variables that were most effective for modeling review_count.  (LL Update this to talk about the variables we do believe are most influential once the analysis is done)"
      ]
    },
    {
      "cell_type": "markdown",
      "metadata": {
        "id": "BvFp_SHCpntC",
        "colab_type": "text"
      },
      "source": [
        "## Data Preparation"
      ]
    },
    {
      "cell_type": "markdown",
      "metadata": {
        "id": "Okv2rVuOnr74",
        "colab_type": "text"
      },
      "source": [
        "Task 1 (10):  Define and prepare your class variables. Use proper variable\n",
        "representations (int, float, one-hot, etc.). Use pre-processing methods (as needed) for\n",
        "dimensionality reduction, scaling, etc. Remove variables that are not needed/useful for\n",
        "the analysis."
      ]
    },
    {
      "cell_type": "code",
      "metadata": {
        "id": "w8AfDoILqFqI",
        "colab_type": "code",
        "colab": {}
      },
      "source": [
        "# Task 1:  Copy/paste from Lab 1, mini_lab, remove unnecessary variables and add any additional variables that will come from Lab 2 regression"
      ],
      "execution_count": null,
      "outputs": []
    },
    {
      "cell_type": "markdown",
      "metadata": {
        "id": "R_ZEjMjoo8p4",
        "colab_type": "text"
      },
      "source": [
        "Task 2 (5):  Describe the final dataset that is used for classification/regression (include a\n",
        "description of any newly formed variables you created). "
      ]
    },
    {
      "cell_type": "code",
      "metadata": {
        "id": "QVPBlA4PuU5S",
        "colab_type": "code",
        "colab": {}
      },
      "source": [
        ""
      ],
      "execution_count": null,
      "outputs": []
    },
    {
      "cell_type": "markdown",
      "metadata": {
        "id": "eb1qymzYq3wm",
        "colab_type": "text"
      },
      "source": [
        "## Modeling and Evaluation\n",
        "\n"
      ]
    },
    {
      "cell_type": "markdown",
      "metadata": {
        "id": "prWAfPyeq30c",
        "colab_type": "text"
      },
      "source": [
        "Task 3 (10):  Text - Choose and explain your evaluation metrics that you will use (i.e., accuracy,\n",
        "precision, recall, F-measure, or any metric we have discussed). Why are the measure(s)\n",
        "appropriate for analyzing the results of your modeling? Give a detailed explanation\n",
        "backing up any assertions."
      ]
    },
    {
      "cell_type": "markdown",
      "metadata": {
        "id": "wAyq6jiIq37q",
        "colab_type": "text"
      },
      "source": [
        "Task 4 (10):  Text -  Choose the method you will use for dividing your data into training and\n",
        "testing splits (i.e., are you using Stratified 10-fold cross validation? Why?). Explain why\n",
        "your chosen method is appropriate or use more than one method as appropriate. "
      ]
    },
    {
      "cell_type": "markdown",
      "metadata": {
        "id": "Q27cDYp2q3_H",
        "colab_type": "text"
      },
      "source": [
        "Task 5 (20):  Text - Create three different classification/regression models (e.g., random forest,\n",
        "KNN, and SVM). Two modeling techniques must be new (but the third could be SVM or\n",
        "logistic regression). Adjust parameters as appropriate to increase generalization\n",
        "performance using your chosen metric. "
      ]
    },
    {
      "cell_type": "code",
      "metadata": {
        "id": "2TTDRgxyt5Sk",
        "colab_type": "code",
        "colab": {}
      },
      "source": [
        ""
      ],
      "execution_count": null,
      "outputs": []
    },
    {
      "cell_type": "markdown",
      "metadata": {
        "id": "tRxhxdqBq4C6",
        "colab_type": "text"
      },
      "source": [
        "Task 6 (10):   Analyze the results using your chosen method of evaluation. Use\n",
        "visualizations of the results to bolster the analysis. Explain any visuals and analyze why\n",
        "they are interesting to someone that might use this model."
      ]
    },
    {
      "cell_type": "code",
      "metadata": {
        "id": "0vAfrtjitvPi",
        "colab_type": "code",
        "colab": {}
      },
      "source": [
        ""
      ],
      "execution_count": null,
      "outputs": []
    },
    {
      "cell_type": "markdown",
      "metadata": {
        "id": "1oiboH9cq4GY",
        "colab_type": "text"
      },
      "source": [
        "Task 7 (10) Discuss the advantages of each model for each classification task, if any. If\n",
        "there are not advantages, explain why. Is any model better than another? Is the\n",
        "difference significant with 95% confidence? Use proper statistical comparison methods."
      ]
    },
    {
      "cell_type": "markdown",
      "metadata": {
        "id": "G9FsqTRZq4Km",
        "colab_type": "text"
      },
      "source": [
        "Task 8 (10):  Which attributes from your analysis are most important? Use proper\n",
        "methods discussed in class to evaluate the importance of different attributes. Discuss\n",
        "the results and hypothesize about why certain attributes are more important than others\n",
        "for a given classification task."
      ]
    },
    {
      "cell_type": "markdown",
      "metadata": {
        "id": "mKu3dxqwq4O3",
        "colab_type": "text"
      },
      "source": [
        "## Deployment"
      ]
    },
    {
      "cell_type": "markdown",
      "metadata": {
        "id": "HUWfnmMwr92Q",
        "colab_type": "text"
      },
      "source": [
        "Task 9 (5):  Five (5) Answers\n",
        "\n",
        "*  How useful is your model for interested parties (i.e., the companies or organizations that might want to use it for prediction)?\n",
        "*  How would you measure the model's value if it was used by these parties?\n",
        "*  How would your deploy your model for interested parties?\n",
        "*  What other data should be collected?\n",
        "*  How often would the model need to be updated, etc.? \n",
        "\n",
        "   "
      ]
    },
    {
      "cell_type": "markdown",
      "metadata": {
        "id": "zghPEKBLr952",
        "colab_type": "text"
      },
      "source": [
        "## Exceptional Work"
      ]
    },
    {
      "cell_type": "markdown",
      "metadata": {
        "id": "juO4FYXMr99v",
        "colab_type": "text"
      },
      "source": [
        "Task 10 (10): \n",
        "*   You have free reign to provide additional modeling.\n",
        "*   One idea: grid search parameters in a parallelized fashion and visualize the\n",
        "performances across attributes. Which parameters are most significant for making a\n",
        "good model for each classification algorithm?\n",
        "\n"
      ]
    },
    {
      "cell_type": "code",
      "metadata": {
        "id": "tfIzFDjbsp6I",
        "colab_type": "code",
        "colab": {}
      },
      "source": [
        ""
      ],
      "execution_count": null,
      "outputs": []
    }
  ]
}